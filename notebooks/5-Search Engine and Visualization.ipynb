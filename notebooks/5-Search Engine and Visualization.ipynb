{
 "cells": [
  {
   "cell_type": "markdown",
   "metadata": {},
   "source": [
    "# Partie 5. - Moteur de Recherche et visualisation\n",
    "\n",
    "Dans cette 5ième et dernière partie, nous allons mettre en oeuvre un moteur de recherche pour indexer et rechercher le jeu de données vu en première partie.  \n",
    "\n",
    "Le moteur de recherche que nous utiliserons est OpenSearch (fork Elasticsearch), un moteur de recherche puissant qui est de plus en plus utilisé dans l’industrie ; non seulement pour ses capacités de recherche mais aussi pour ses fonctionnalités de Business Intelligence (BI)."
   ]
  },
  {
   "cell_type": "markdown",
   "metadata": {},
   "source": [
    "## Import des bibliothèques logicielles et configuration"
   ]
  },
  {
   "cell_type": "code",
   "execution_count": null,
   "metadata": {},
   "outputs": [],
   "source": [
    "from elasticsearch import Elasticsearch\n",
    "from elasticsearch_dsl.query import QueryString, Range, SimpleQueryString\n",
    "from elasticsearch_dsl import MultiSearch, Search, Q\n",
    "from datasets import load_dataset # Intégration de jeux de données.\n",
    "\n",
    "import ast\n",
    "from tqdm.notebook import tqdm\n"
   ]
  },
  {
   "cell_type": "code",
   "execution_count": null,
   "metadata": {},
   "outputs": [],
   "source": [
    "# Configuration de l'URL vers le moteur de recherche. \n",
    "# /!\\ Remplacer 127.0.0.1 par opensearch /!\\\n",
    "ES_URL = '127.0.0.1:9200'\n",
    "ES_USER=\"\"\n",
    "ES_PWD=\"\"\n",
    "\n",
    "# Configuration d'un objet qui nous permettra d'indexer des données dans le moteur de recherche.\n",
    "es = Elasticsearch(ES_URL, http_auth=(ES_USER, ES_PWD))"
   ]
  },
  {
   "cell_type": "markdown",
   "metadata": {},
   "source": [
    "## 1. Lancement du moteur de recherche avec Docker"
   ]
  },
  {
   "cell_type": "markdown",
   "metadata": {},
   "source": [
    "Le moteur de recherche est déjà lancé par Docker. Vous pouvez le vérifier en vous rendant sur http://localhost:5601"
   ]
  },
  {
   "cell_type": "markdown",
   "metadata": {},
   "source": [
    "## 2. Indexation des données"
   ]
  },
  {
   "cell_type": "markdown",
   "metadata": {},
   "source": [
    "Rechargeons le jeu de données construit dans la Partie 1."
   ]
  },
  {
   "cell_type": "code",
   "execution_count": null,
   "metadata": {},
   "outputs": [],
   "source": [
    "french_book_review_dataset = load_dataset(\"Abirate/french_book_reviews\")"
   ]
  },
  {
   "cell_type": "markdown",
   "metadata": {},
   "source": [
    "Ensuite, nous créons une boucle qui pour chaque document l'indexe dans le moteur de recherche avec les paramètres suivants : \n",
    "- nom de l'index : `book_review` ;\n",
    "- identifiant du document : chemin du document (= les clés du dictionnaire `documents`) ;\n",
    "- contenu : JSON du document."
   ]
  },
  {
   "cell_type": "code",
   "execution_count": 1,
   "metadata": {},
   "outputs": [
    {
     "ename": "NameError",
     "evalue": "name 'tqdm' is not defined",
     "output_type": "error",
     "traceback": [
      "\u001b[0;31m---------------------------------------------------------------------------\u001b[0m",
      "\u001b[0;31mNameError\u001b[0m                                 Traceback (most recent call last)",
      "\u001b[1;32m/home/vincent/dev/ENSEIGNEMENTS/taln-course/notebooks/5-Search Engine and Visualization.ipynb Cell 11'\u001b[0m in \u001b[0;36m<cell line: 1>\u001b[0;34m()\u001b[0m\n\u001b[0;32m----> <a href='vscode-notebook-cell:/home/vincent/dev/ENSEIGNEMENTS/taln-course/notebooks/5-Search%20Engine%20and%20Visualization.ipynb#ch0000010?line=0'>1</a>\u001b[0m \u001b[39mfor\u001b[39;00m book_title, review, label, rating \u001b[39min\u001b[39;00m tqdm(\u001b[39mzip\u001b[39m(french_book_review_dataset\u001b[39m.\u001b[39mdata[\u001b[39m\"\u001b[39m\u001b[39mtrain\u001b[39m\u001b[39m\"\u001b[39m][\u001b[39m\"\u001b[39m\u001b[39mbook_title\u001b[39m\u001b[39m\"\u001b[39m], \\\n\u001b[1;32m      <a href='vscode-notebook-cell:/home/vincent/dev/ENSEIGNEMENTS/taln-course/notebooks/5-Search%20Engine%20and%20Visualization.ipynb#ch0000010?line=1'>2</a>\u001b[0m         french_book_review_dataset\u001b[39m.\u001b[39mdata[\u001b[39m\"\u001b[39m\u001b[39mtrain\u001b[39m\u001b[39m\"\u001b[39m][\u001b[39m\"\u001b[39m\u001b[39mreader_review\u001b[39m\u001b[39m\"\u001b[39m], \\\n\u001b[1;32m      <a href='vscode-notebook-cell:/home/vincent/dev/ENSEIGNEMENTS/taln-course/notebooks/5-Search%20Engine%20and%20Visualization.ipynb#ch0000010?line=2'>3</a>\u001b[0m         french_book_review_dataset\u001b[39m.\u001b[39mdata[\u001b[39m\"\u001b[39m\u001b[39mtrain\u001b[39m\u001b[39m\"\u001b[39m][\u001b[39m\"\u001b[39m\u001b[39mlabel\u001b[39m\u001b[39m\"\u001b[39m], \\\n\u001b[1;32m      <a href='vscode-notebook-cell:/home/vincent/dev/ENSEIGNEMENTS/taln-course/notebooks/5-Search%20Engine%20and%20Visualization.ipynb#ch0000010?line=3'>4</a>\u001b[0m         french_book_review_dataset\u001b[39m.\u001b[39mdata[\u001b[39m\"\u001b[39m\u001b[39mtrain\u001b[39m\u001b[39m\"\u001b[39m][\u001b[39m\"\u001b[39m\u001b[39mrating\u001b[39m\u001b[39m\"\u001b[39m]), \\\n\u001b[1;32m      <a href='vscode-notebook-cell:/home/vincent/dev/ENSEIGNEMENTS/taln-course/notebooks/5-Search%20Engine%20and%20Visualization.ipynb#ch0000010?line=4'>5</a>\u001b[0m         total\u001b[39m=\u001b[39m\u001b[39mlen\u001b[39m(french_book_review_dataset\u001b[39m.\u001b[39mdata[\u001b[39m\"\u001b[39m\u001b[39mtrain\u001b[39m\u001b[39m\"\u001b[39m])):\n\u001b[1;32m      <a href='vscode-notebook-cell:/home/vincent/dev/ENSEIGNEMENTS/taln-course/notebooks/5-Search%20Engine%20and%20Visualization.ipynb#ch0000010?line=6'>7</a>\u001b[0m     label_str \u001b[39m=\u001b[39m \u001b[39m\"\u001b[39m\u001b[39mPositif\u001b[39m\u001b[39m\"\u001b[39m\n\u001b[1;32m      <a href='vscode-notebook-cell:/home/vincent/dev/ENSEIGNEMENTS/taln-course/notebooks/5-Search%20Engine%20and%20Visualization.ipynb#ch0000010?line=7'>8</a>\u001b[0m     \u001b[39mif\u001b[39;00m(\u001b[39m\"\u001b[39m\u001b[39m0\u001b[39m\u001b[39m\"\u001b[39m \u001b[39m==\u001b[39m \u001b[39mstr\u001b[39m(label)):\n",
      "\u001b[0;31mNameError\u001b[0m: name 'tqdm' is not defined"
     ]
    }
   ],
   "source": [
    "for book_title, review, label, rating in tqdm(zip(french_book_review_dataset.data[\"train\"][\"book_title\"], \\\n",
    "        french_book_review_dataset.data[\"train\"][\"reader_review\"], \\\n",
    "        french_book_review_dataset.data[\"train\"][\"label\"], \\\n",
    "        french_book_review_dataset.data[\"train\"][\"rating\"]), \\\n",
    "        total=len(french_book_review_dataset.data[\"train\"])):\n",
    "    \n",
    "    label_str = \"Positif\"\n",
    "    if(\"0\" == str(label)):\n",
    "        label_str = \"Négatif\"\n",
    "\n",
    "    json_document = {\n",
    "        \"book_title\": str(book_title),\n",
    "        \"review\": str(review),\n",
    "        \"label\" : str(label_str),\n",
    "        \"rating\" : int(rating.as_py())\n",
    "    }\n",
    "\n",
    "    es.index(index=\"book_review\",id=str(book_title), body=json_document)\n"
   ]
  },
  {
   "cell_type": "markdown",
   "metadata": {},
   "source": [
    "Nous avons utilisé les paramètres par défaut pour le pré-traitement du texte, la tokinisation etc. Il est possible de modifier la manière dont les documents sont indexés via les `mappings` : https://opensearch.org/docs/2.0/opensearch/mappings/."
   ]
  },
  {
   "cell_type": "markdown",
   "metadata": {},
   "source": [
    "## 3. Exploitation du moteur de recherche"
   ]
  },
  {
   "cell_type": "markdown",
   "metadata": {},
   "source": [
    "**Exercice** : nous allons maintenant lancer l'interface graphique **OpenDashboards** du moteur de recherche.\n",
    "\n",
    "1. Lancer l'URL http://localhost:5601/app/management/opensearch-dashboards/objects\n",
    "2. Cliquer sur \"Import\" et sélectionner le fichier `opensearch-dashboard.ndjson`\n",
    "3. Lancer l'interface : http://localhost:5601/app/dashboards\n",
    "4. Exécuter des requêtes et visualiser les résultats !"
   ]
  },
  {
   "cell_type": "markdown",
   "metadata": {},
   "source": [
    "## Conclusion"
   ]
  },
  {
   "cell_type": "markdown",
   "metadata": {},
   "source": [
    "Dans cette partie nous avons brièvement vu comment indexer des données dans un moteur de recherche. Le plus difficile dans la mise en place d'un moteur de recherche réside surtout dans la bonne préparation des données."
   ]
  }
 ],
 "metadata": {
  "kernelspec": {
   "display_name": "Python 3.9.7 ('.venv': venv)",
   "language": "python",
   "name": "python3"
  },
  "language_info": {
   "codemirror_mode": {
    "name": "ipython",
    "version": 3
   },
   "file_extension": ".py",
   "mimetype": "text/x-python",
   "name": "python",
   "nbconvert_exporter": "python",
   "pygments_lexer": "ipython3",
   "version": "3.9.7"
  },
  "orig_nbformat": 4,
  "vscode": {
   "interpreter": {
    "hash": "c80391f1238b45698e2dd8cb3d47fccae97762fdc20421908c45a9aed68776a1"
   }
  }
 },
 "nbformat": 4,
 "nbformat_minor": 2
}
