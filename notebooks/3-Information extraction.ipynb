{
 "cells": [
  {
   "cell_type": "markdown",
   "metadata": {},
   "source": [
    "# Partie 3. - Extraction d'informations"
   ]
  },
  {
   "cell_type": "markdown",
   "metadata": {},
   "source": [
    "Dans cette partie, nous allons mettre en oeuvre des techniques d'extraction d'informations.\n",
    "\n",
    "A partir du texte extrait des documents, l'objectif est d'extraire des informations métiers intéressantes comme des références, des noms de personnes, des lieux géographiques etc. \n",
    "\n",
    "L'extraction d'informations peut être très utile lorsque l'on cherche à _structurer_ des données qui ne le sont pas de base, comme du texte brut. Les cas d'usage les plus fréquents sont :\n",
    "- trouver et comprendre des portions de textes pertinentes pour la réalisation d'une tâche;\n",
    "- calculer des statistiques sur les objets les plus fréquents, par exemple les personnes les plus cités dans des articles;\n",
    "- trouver des liens entre des objets, par exemple les liens entre des sociétés."
   ]
  },
  {
   "cell_type": "markdown",
   "metadata": {},
   "source": [
    "## Import des bibliothèques logicielles et configuration"
   ]
  },
  {
   "cell_type": "code",
   "execution_count": 1,
   "metadata": {},
   "outputs": [
    {
     "name": "stdout",
     "output_type": "stream",
     "text": [
      "Collecting fr-core-news-md==3.3.0\n",
      "  Downloading https://github.com/explosion/spacy-models/releases/download/fr_core_news_md-3.3.0/fr_core_news_md-3.3.0-py3-none-any.whl (45.8 MB)\n",
      "\u001b[K     |████████████████████████████████| 45.8 MB 8.6 MB/s eta 0:00:01\n",
      "\u001b[?25hRequirement already satisfied: spacy<3.4.0,>=3.3.0.dev0 in /home/vincent/dev/ENSEIGNEMENTS/taln-course/.venv/lib/python3.9/site-packages (from fr-core-news-md==3.3.0) (3.3.1)\n",
      "Requirement already satisfied: srsly<3.0.0,>=2.4.3 in /home/vincent/dev/ENSEIGNEMENTS/taln-course/.venv/lib/python3.9/site-packages (from spacy<3.4.0,>=3.3.0.dev0->fr-core-news-md==3.3.0) (2.4.3)\n",
      "Requirement already satisfied: spacy-legacy<3.1.0,>=3.0.9 in /home/vincent/dev/ENSEIGNEMENTS/taln-course/.venv/lib/python3.9/site-packages (from spacy<3.4.0,>=3.3.0.dev0->fr-core-news-md==3.3.0) (3.0.9)\n",
      "Requirement already satisfied: thinc<8.1.0,>=8.0.14 in /home/vincent/dev/ENSEIGNEMENTS/taln-course/.venv/lib/python3.9/site-packages (from spacy<3.4.0,>=3.3.0.dev0->fr-core-news-md==3.3.0) (8.0.17)\n",
      "Requirement already satisfied: requests<3.0.0,>=2.13.0 in /home/vincent/dev/ENSEIGNEMENTS/taln-course/.venv/lib/python3.9/site-packages (from spacy<3.4.0,>=3.3.0.dev0->fr-core-news-md==3.3.0) (2.28.1)\n",
      "Requirement already satisfied: murmurhash<1.1.0,>=0.28.0 in /home/vincent/dev/ENSEIGNEMENTS/taln-course/.venv/lib/python3.9/site-packages (from spacy<3.4.0,>=3.3.0.dev0->fr-core-news-md==3.3.0) (1.0.7)\n",
      "Requirement already satisfied: pathy>=0.3.5 in /home/vincent/dev/ENSEIGNEMENTS/taln-course/.venv/lib/python3.9/site-packages (from spacy<3.4.0,>=3.3.0.dev0->fr-core-news-md==3.3.0) (0.6.2)\n",
      "Requirement already satisfied: wasabi<1.1.0,>=0.9.1 in /home/vincent/dev/ENSEIGNEMENTS/taln-course/.venv/lib/python3.9/site-packages (from spacy<3.4.0,>=3.3.0.dev0->fr-core-news-md==3.3.0) (0.9.1)\n",
      "Requirement already satisfied: preshed<3.1.0,>=3.0.2 in /home/vincent/dev/ENSEIGNEMENTS/taln-course/.venv/lib/python3.9/site-packages (from spacy<3.4.0,>=3.3.0.dev0->fr-core-news-md==3.3.0) (3.0.6)\n",
      "Requirement already satisfied: catalogue<2.1.0,>=2.0.6 in /home/vincent/dev/ENSEIGNEMENTS/taln-course/.venv/lib/python3.9/site-packages (from spacy<3.4.0,>=3.3.0.dev0->fr-core-news-md==3.3.0) (2.0.7)\n",
      "Requirement already satisfied: typer<0.5.0,>=0.3.0 in /home/vincent/dev/ENSEIGNEMENTS/taln-course/.venv/lib/python3.9/site-packages (from spacy<3.4.0,>=3.3.0.dev0->fr-core-news-md==3.3.0) (0.4.1)\n",
      "Requirement already satisfied: jinja2 in /home/vincent/dev/ENSEIGNEMENTS/taln-course/.venv/lib/python3.9/site-packages (from spacy<3.4.0,>=3.3.0.dev0->fr-core-news-md==3.3.0) (3.1.2)\n",
      "Requirement already satisfied: packaging>=20.0 in /home/vincent/dev/ENSEIGNEMENTS/taln-course/.venv/lib/python3.9/site-packages (from spacy<3.4.0,>=3.3.0.dev0->fr-core-news-md==3.3.0) (21.3)\n",
      "Requirement already satisfied: setuptools in /home/vincent/dev/ENSEIGNEMENTS/taln-course/.venv/lib/python3.9/site-packages (from spacy<3.4.0,>=3.3.0.dev0->fr-core-news-md==3.3.0) (57.4.0)\n",
      "Requirement already satisfied: blis<0.8.0,>=0.4.0 in /home/vincent/dev/ENSEIGNEMENTS/taln-course/.venv/lib/python3.9/site-packages (from spacy<3.4.0,>=3.3.0.dev0->fr-core-news-md==3.3.0) (0.7.8)\n",
      "Requirement already satisfied: cymem<2.1.0,>=2.0.2 in /home/vincent/dev/ENSEIGNEMENTS/taln-course/.venv/lib/python3.9/site-packages (from spacy<3.4.0,>=3.3.0.dev0->fr-core-news-md==3.3.0) (2.0.6)\n",
      "Requirement already satisfied: tqdm<5.0.0,>=4.38.0 in /home/vincent/dev/ENSEIGNEMENTS/taln-course/.venv/lib/python3.9/site-packages (from spacy<3.4.0,>=3.3.0.dev0->fr-core-news-md==3.3.0) (4.64.0)\n",
      "Requirement already satisfied: pydantic!=1.8,!=1.8.1,<1.9.0,>=1.7.4 in /home/vincent/dev/ENSEIGNEMENTS/taln-course/.venv/lib/python3.9/site-packages (from spacy<3.4.0,>=3.3.0.dev0->fr-core-news-md==3.3.0) (1.8.2)\n",
      "Requirement already satisfied: langcodes<4.0.0,>=3.2.0 in /home/vincent/dev/ENSEIGNEMENTS/taln-course/.venv/lib/python3.9/site-packages (from spacy<3.4.0,>=3.3.0.dev0->fr-core-news-md==3.3.0) (3.3.0)\n",
      "Requirement already satisfied: spacy-loggers<2.0.0,>=1.0.0 in /home/vincent/dev/ENSEIGNEMENTS/taln-course/.venv/lib/python3.9/site-packages (from spacy<3.4.0,>=3.3.0.dev0->fr-core-news-md==3.3.0) (1.0.2)\n",
      "Requirement already satisfied: numpy>=1.15.0 in /home/vincent/dev/ENSEIGNEMENTS/taln-course/.venv/lib/python3.9/site-packages (from spacy<3.4.0,>=3.3.0.dev0->fr-core-news-md==3.3.0) (1.23.0)\n",
      "Requirement already satisfied: pyparsing!=3.0.5,>=2.0.2 in /home/vincent/dev/ENSEIGNEMENTS/taln-course/.venv/lib/python3.9/site-packages (from packaging>=20.0->spacy<3.4.0,>=3.3.0.dev0->fr-core-news-md==3.3.0) (3.0.9)\n",
      "Requirement already satisfied: smart-open<6.0.0,>=5.2.1 in /home/vincent/dev/ENSEIGNEMENTS/taln-course/.venv/lib/python3.9/site-packages (from pathy>=0.3.5->spacy<3.4.0,>=3.3.0.dev0->fr-core-news-md==3.3.0) (5.2.1)\n",
      "Requirement already satisfied: typing-extensions>=3.7.4.3 in /home/vincent/dev/ENSEIGNEMENTS/taln-course/.venv/lib/python3.9/site-packages (from pydantic!=1.8,!=1.8.1,<1.9.0,>=1.7.4->spacy<3.4.0,>=3.3.0.dev0->fr-core-news-md==3.3.0) (4.2.0)\n",
      "Requirement already satisfied: charset-normalizer<3,>=2 in /home/vincent/dev/ENSEIGNEMENTS/taln-course/.venv/lib/python3.9/site-packages (from requests<3.0.0,>=2.13.0->spacy<3.4.0,>=3.3.0.dev0->fr-core-news-md==3.3.0) (2.1.0)\n",
      "Requirement already satisfied: urllib3<1.27,>=1.21.1 in /home/vincent/dev/ENSEIGNEMENTS/taln-course/.venv/lib/python3.9/site-packages (from requests<3.0.0,>=2.13.0->spacy<3.4.0,>=3.3.0.dev0->fr-core-news-md==3.3.0) (1.26.9)\n",
      "Requirement already satisfied: idna<4,>=2.5 in /home/vincent/dev/ENSEIGNEMENTS/taln-course/.venv/lib/python3.9/site-packages (from requests<3.0.0,>=2.13.0->spacy<3.4.0,>=3.3.0.dev0->fr-core-news-md==3.3.0) (3.3)\n",
      "Requirement already satisfied: certifi>=2017.4.17 in /home/vincent/dev/ENSEIGNEMENTS/taln-course/.venv/lib/python3.9/site-packages (from requests<3.0.0,>=2.13.0->spacy<3.4.0,>=3.3.0.dev0->fr-core-news-md==3.3.0) (2022.6.15)\n",
      "Requirement already satisfied: click<9.0.0,>=7.1.1 in /home/vincent/dev/ENSEIGNEMENTS/taln-course/.venv/lib/python3.9/site-packages (from typer<0.5.0,>=0.3.0->spacy<3.4.0,>=3.3.0.dev0->fr-core-news-md==3.3.0) (8.1.3)\n",
      "Requirement already satisfied: MarkupSafe>=2.0 in /home/vincent/dev/ENSEIGNEMENTS/taln-course/.venv/lib/python3.9/site-packages (from jinja2->spacy<3.4.0,>=3.3.0.dev0->fr-core-news-md==3.3.0) (2.1.1)\n",
      "\u001b[33mWARNING: You are using pip version 21.2.3; however, version 22.1.2 is available.\n",
      "You should consider upgrading via the '/home/vincent/dev/ENSEIGNEMENTS/taln-course/.venv/bin/python -m pip install --upgrade pip' command.\u001b[0m\n",
      "\u001b[38;5;2m✔ Download and installation successful\u001b[0m\n",
      "You can now load the package via spacy.load('fr_core_news_md')\n"
     ]
    }
   ],
   "source": [
    "import re # mise en oeuvre d'expression régulières\n",
    "import ast # à ignorer pour ce TP\n",
    "import spacy\n",
    "from spacy import displacy\n",
    "!python -m spacy download fr_core_news_md"
   ]
  },
  {
   "cell_type": "code",
   "execution_count": 2,
   "metadata": {},
   "outputs": [],
   "source": [
    "# Configuration"
   ]
  },
  {
   "cell_type": "markdown",
   "metadata": {},
   "source": [
    "## 1. Extraction d'informations par expressions régulières"
   ]
  },
  {
   "cell_type": "markdown",
   "metadata": {},
   "source": [
    "Une **expression régulière** est chaîne de caractères décrivant un ensemble de chaînes de caractères possibles."
   ]
  },
  {
   "cell_type": "markdown",
   "metadata": {},
   "source": [
    "Tout d'abord, chargement le jeu de données créé en Partie 1. Nous travaillerons sur un sous ensemble de ce jeu de données pour garantir des temps de réponse acceptables."
   ]
  },
  {
   "cell_type": "code",
   "execution_count": 3,
   "metadata": {},
   "outputs": [],
   "source": [
    "f = open(\"./dataset_processed/dataset.json\", \"r\")\n",
    "documents_raw = f.read()\n",
    "documents = ast.literal_eval(documents_raw)\n",
    "f.close()\n",
    "big_text = ' '.join([doc['content'] for doc in documents.values()])\n",
    "big_text = big_text[0:1000000] # sélection d'un sous ensemble"
   ]
  },
  {
   "cell_type": "markdown",
   "metadata": {},
   "source": [
    "### Extraction des lois et décrets\n",
    "\n",
    "Les lois et décrets ont un numéro codifié. Ce dernier se compose de l'année sur 2 ou 4 chiffres, suivi d'un tiret (-), suivi d'un numéro sur au moins 2 chiffres. Par exemple : \n",
    "- loi n° 2013-595\n",
    "- décret n° 2011-1503"
   ]
  },
  {
   "cell_type": "markdown",
   "metadata": {},
   "source": [
    "**Exercice** : écrire l'expression régulière permettant d'extraire l'ensemble des lois et des décrets cités dans le jeu de données. Afficher le résultat."
   ]
  },
  {
   "cell_type": "code",
   "execution_count": 4,
   "metadata": {},
   "outputs": [
    {
     "name": "stdout",
     "output_type": "stream",
     "text": [
      "{'2311-11', '2004-801', '5212-33', '2014-513', '3132-27', '2007-1787', '1994-1995', '2004-1085', '2003-2007', '2015-991', '2011-1961', '2007-1720', '5214-16', '2004-192', '1996-2002', '2122-22', '2014-1526', '2122-23', '2011-1978', '2007-1434', '2004-193', '5211-26', '2012-1246', '3132-26'}\n"
     ]
    }
   ],
   "source": [
    "url_regex = r\" ([0-9]{4}-[0-9]{2,4}) \" # TODO\n",
    "match = set(re.findall(url_regex, big_text, re.IGNORECASE))\n",
    "print(match)\n"
   ]
  },
  {
   "cell_type": "markdown",
   "metadata": {},
   "source": [
    "### Extraction des mails"
   ]
  },
  {
   "cell_type": "markdown",
   "metadata": {},
   "source": [
    "Un autre exemple est celui de l'extraction des adresses email dans des textes. Une adresse email se décomposer de la manière suivante : `texte@nom_hote.domaine`.\n",
    "\n",
    "**Exercice** : écrire l'exression régulière permettant d'extraire l'ensemble des adresses email citées dans le jeu de données. Afficher le résultat."
   ]
  },
  {
   "cell_type": "code",
   "execution_count": 5,
   "metadata": {},
   "outputs": [
    {
     "name": "stdout",
     "output_type": "stream",
     "text": [
      "calculette-ift.dgpaat@agriculture.gouv.fr\n",
      "ARS-DD95-EAU@ars.sante.fr\n",
      "gestion.sbep.dreal-paca@developpement-durable.gouv.fr\n",
      "audrey.voisin@circet.frCONSIDERANT\n",
      "sidesa@sidesa.fr\n"
     ]
    }
   ],
   "source": [
    "mail_regex = '[\\w\\.-]+@[\\w\\.-]+' # TODO expression régulière permettant de cibler un mail.\n",
    "match = re.findall(mail_regex, big_text)\n",
    "for i in match:\n",
    "    print(i)\n"
   ]
  },
  {
   "cell_type": "markdown",
   "metadata": {},
   "source": [
    "### Extraction d'URL"
   ]
  },
  {
   "cell_type": "markdown",
   "metadata": {},
   "source": [
    "L'extraction d'URL par expression régulière n'est si triviale qu'elle n'y paraît. Aujourd'hui, les navigateurs acceptent des URLs même si elles ne sont pas parfaitement formées. Par exemple, il n'est pas obligatoire de spécifier `https` ou `www`. \n",
    "\n",
    "Voici ci-dessous un exemple d'expression régulière permettant d'extraire les URLs, et elle n'est pas simple à comprendre. Essayons là en lançant le bloc de codes ci-dessous."
   ]
  },
  {
   "cell_type": "code",
   "execution_count": 6,
   "metadata": {},
   "outputs": [
    {
     "name": "stdout",
     "output_type": "stream",
     "text": [
      "http://www.agreste.agriculture.gouv.fr/IMG/pdf/dossier17_integral.pdf\n",
      "http://agriculture.gouv.fr/sites/minagri/files/documents/201411_Synthese_Resultats_DEPH\n",
      "www.sidesa.fr\n",
      "http://agreste.agriculture.gouv.fr/enquetes/pratiques-culturales/a-propos-des-enquetes-\n",
      "https://www.service-public.fr/\n",
      "http://www.immigration.interieur.gouv.fr\n",
      "www.dila.premier-ministre.gouv.fr/repertoire-des-informations-publiques\n",
      "https://alim.agriculture.gouv.fr/ift/\n",
      "http://agreste.agriculture.gouv.fr/enquetes/pratiques-culturales/a-propos-\n",
      "http://www.agreste.agriculture.gouv.fr/IMG/pdf_nese090332A3.pdf\n",
      "www.impots.gouv.fr\n",
      "https://gitlab.com/pidila/sp-simulateurs-data\n",
      "https://github.com/eureka2/G6K\n",
      "http://agriculture.gouv.fr/certification-environnementale-mode-demploi-pour-les-\n"
     ]
    }
   ],
   "source": [
    "url_regex = r\"(?i)\\b((?:https?://|www\\d{0,3}[.]|[a-z0-9.\\-]+[.][a-z]{2,4}/)(?:[^\\s()<>]+|\\(([^\\s()<>]+|(\\([^\\s()<>]+\\)))*\\))+(?:\\(([^\\s()<>]+|(\\([^\\s()<>]+\\)))*\\)|[^\\s`!()\\[\\]{};:'\\\".,<>?«»“”‘’]))\"\n",
    "match = set(re.findall(url_regex, big_text))\n",
    "for i in match:\n",
    "    print(i[0])"
   ]
  },
  {
   "cell_type": "markdown",
   "metadata": {},
   "source": [
    "## 2. Extraction d'informations via un modèle entraîné."
   ]
  },
  {
   "cell_type": "markdown",
   "metadata": {},
   "source": [
    "Les expressions régulières sont un puissant outil pour extraire de l'information structurée mais uniquement lorsque l'on est capable de décrire précisément et sans ambiguïté ce que l'on cherche.\n",
    "\n",
    "Dans certains cas, cela est impossible ou très difficile. Par exemple lorsque l'on veut extraire des noms de personnes, des lieux géographiques ou encore des noms de société. Dans ces cas là, nous ne pouvons plus utiliser les expressions régulières car la variabilité des cas possibles est trop grande.\n",
    "\n",
    "Pour répondre à ce problème, nous pouvons utiliser des modèles statistiques ayant préalablement été entraînés à identifier dans un texte les séquences de mots reflétant ce que l'on souhaite extraire.\n",
    "\n",
    "Un exemple bien connu de ce type d'extraction est la **Reconnaissance d'Entités Nommées** (_Named Entity Recognition_). Une entité nommée est un mot ou une séquence de mots catégorisable dans des classes. Les classes les plus connues sont : `Personne`, `Organisation`, `Lieu géographique`, `Montant`, `Quantité`, `Date`, `Distance`.\n",
    "\n",
    "Dans le code ci-dessous, nous allons mettre en oeuvre l'extraction d'entités nommées."
   ]
  },
  {
   "cell_type": "markdown",
   "metadata": {},
   "source": [
    "Premièrement, chargeons avec la bibliothèque `spacy` un modèle ayant préalablement été entraîné à reconnaître les entités nommées dans des textes en langue française."
   ]
  },
  {
   "cell_type": "code",
   "execution_count": 7,
   "metadata": {},
   "outputs": [],
   "source": [
    "nlp = spacy.load('fr_core_news_md') # Chargement d'un modèle de TALN pour le français."
   ]
  },
  {
   "cell_type": "markdown",
   "metadata": {},
   "source": [
    "Avant d'exploiter le jeu de données créé précédemment, nous allons travailler sur le texte de taille réduite ci-dessous (extrait de Wikipedia) afin de mieux visualiser les extractions, leurs forces et leurs limites."
   ]
  },
  {
   "cell_type": "code",
   "execution_count": 8,
   "metadata": {},
   "outputs": [],
   "source": [
    "text = '''\n",
    "La société Naval Group est un groupe industriel français spécialisé dans la construction navale de défense. \n",
    "Le groupe emploie 15 792 personnes en 2020 à travers dix-huit pays. \n",
    "Société de droit privé détenue principalement à hauteur de 62,49 % par l’État français et de 35 % par Thales, \n",
    "Naval Group est, depuis 2017, l’héritière des arsenaux français et de la Direction des constructions et armes navales (DCAN), \n",
    "devenue la Direction des constructions navales (DCN) en 1991 et DCNS en 2007 (le « s » ajouté pour la notion de système et de service). \n",
    "Depuis 2021, le groupe se recentre sur ses activités navales. \n",
    "'''"
   ]
  },
  {
   "cell_type": "markdown",
   "metadata": {},
   "source": [
    "Lançons maintenant l'analyse du texte. La ligne `nlp(text)` réalise de nombreuses opérations comme la _tokenisation_ et la normalisation du texte en plus de l'extraction des entités nommées."
   ]
  },
  {
   "cell_type": "code",
   "execution_count": 9,
   "metadata": {},
   "outputs": [
    {
     "name": "stdout",
     "output_type": "stream",
     "text": [
      "Naval Group 12 23 ORG\n",
      "Société de droit 179 195 ORG\n",
      "État 252 256 LOC\n",
      "Thales 281 287 LOC\n",
      "Direction des constructions et armes navales 363 407 ORG\n",
      "DCAN 409 413 ORG\n",
      "Direction des constructions navales 428 463 ORG\n",
      "DCN 465 468 ORG\n",
      "DCNS 481 485 ORG\n"
     ]
    }
   ],
   "source": [
    "doc = nlp(text)\n",
    "\n",
    "# Affichage des entités nommées.\n",
    "for ent in doc.ents:\n",
    "    print(ent.text, ent.start_char, ent.end_char, ent.label_)"
   ]
  },
  {
   "cell_type": "markdown",
   "metadata": {},
   "source": [
    "Nous pouvons aussi afficher les résultats de manière plus visuelle."
   ]
  },
  {
   "cell_type": "code",
   "execution_count": 10,
   "metadata": {},
   "outputs": [
    {
     "data": {
      "text/html": [
       "<span class=\"tex2jax_ignore\"><div class=\"entities\" style=\"line-height: 2.5; direction: ltr\"></br>La société \n",
       "<mark class=\"entity\" style=\"background: #7aecec; padding: 0.45em 0.6em; margin: 0 0.25em; line-height: 1; border-radius: 0.35em;\">\n",
       "    Naval Group\n",
       "    <span style=\"font-size: 0.8em; font-weight: bold; line-height: 1; border-radius: 0.35em; vertical-align: middle; margin-left: 0.5rem\">ORG</span>\n",
       "</mark>\n",
       " est un groupe industriel français spécialisé dans la construction navale de défense. </br>Le groupe emploie 15 792 personnes en 2020 à travers dix-huit pays. </br>\n",
       "<mark class=\"entity\" style=\"background: #7aecec; padding: 0.45em 0.6em; margin: 0 0.25em; line-height: 1; border-radius: 0.35em;\">\n",
       "    Société de droit\n",
       "    <span style=\"font-size: 0.8em; font-weight: bold; line-height: 1; border-radius: 0.35em; vertical-align: middle; margin-left: 0.5rem\">ORG</span>\n",
       "</mark>\n",
       " privé détenue principalement à hauteur de 62,49 % par l’\n",
       "<mark class=\"entity\" style=\"background: #ff9561; padding: 0.45em 0.6em; margin: 0 0.25em; line-height: 1; border-radius: 0.35em;\">\n",
       "    État\n",
       "    <span style=\"font-size: 0.8em; font-weight: bold; line-height: 1; border-radius: 0.35em; vertical-align: middle; margin-left: 0.5rem\">LOC</span>\n",
       "</mark>\n",
       " français et de 35 % par \n",
       "<mark class=\"entity\" style=\"background: #ff9561; padding: 0.45em 0.6em; margin: 0 0.25em; line-height: 1; border-radius: 0.35em;\">\n",
       "    Thales\n",
       "    <span style=\"font-size: 0.8em; font-weight: bold; line-height: 1; border-radius: 0.35em; vertical-align: middle; margin-left: 0.5rem\">LOC</span>\n",
       "</mark>\n",
       ", </br>Naval Group est, depuis 2017, l’héritière des arsenaux français et de la \n",
       "<mark class=\"entity\" style=\"background: #7aecec; padding: 0.45em 0.6em; margin: 0 0.25em; line-height: 1; border-radius: 0.35em;\">\n",
       "    Direction des constructions et armes navales\n",
       "    <span style=\"font-size: 0.8em; font-weight: bold; line-height: 1; border-radius: 0.35em; vertical-align: middle; margin-left: 0.5rem\">ORG</span>\n",
       "</mark>\n",
       " (\n",
       "<mark class=\"entity\" style=\"background: #7aecec; padding: 0.45em 0.6em; margin: 0 0.25em; line-height: 1; border-radius: 0.35em;\">\n",
       "    DCAN\n",
       "    <span style=\"font-size: 0.8em; font-weight: bold; line-height: 1; border-radius: 0.35em; vertical-align: middle; margin-left: 0.5rem\">ORG</span>\n",
       "</mark>\n",
       "), </br>devenue la \n",
       "<mark class=\"entity\" style=\"background: #7aecec; padding: 0.45em 0.6em; margin: 0 0.25em; line-height: 1; border-radius: 0.35em;\">\n",
       "    Direction des constructions navales\n",
       "    <span style=\"font-size: 0.8em; font-weight: bold; line-height: 1; border-radius: 0.35em; vertical-align: middle; margin-left: 0.5rem\">ORG</span>\n",
       "</mark>\n",
       " (\n",
       "<mark class=\"entity\" style=\"background: #7aecec; padding: 0.45em 0.6em; margin: 0 0.25em; line-height: 1; border-radius: 0.35em;\">\n",
       "    DCN\n",
       "    <span style=\"font-size: 0.8em; font-weight: bold; line-height: 1; border-radius: 0.35em; vertical-align: middle; margin-left: 0.5rem\">ORG</span>\n",
       "</mark>\n",
       ") en 1991 et \n",
       "<mark class=\"entity\" style=\"background: #7aecec; padding: 0.45em 0.6em; margin: 0 0.25em; line-height: 1; border-radius: 0.35em;\">\n",
       "    DCNS\n",
       "    <span style=\"font-size: 0.8em; font-weight: bold; line-height: 1; border-radius: 0.35em; vertical-align: middle; margin-left: 0.5rem\">ORG</span>\n",
       "</mark>\n",
       " en 2007 (le « s » ajouté pour la notion de système et de service). </br>Depuis 2021, le groupe se recentre sur ses activités navales. </br></div></span>"
      ],
      "text/plain": [
       "<IPython.core.display.HTML object>"
      ]
     },
     "metadata": {},
     "output_type": "display_data"
    }
   ],
   "source": [
    "displacy.render(doc, style=\"ent\")\n"
   ]
  },
  {
   "cell_type": "markdown",
   "metadata": {},
   "source": [
    "Les résultats permettent d'identifier des informations itnéressantes, comme des organisations, que celles-ci soient écrites sous la forme d'un acronyme ou pas. Le modèle n'est néanmoins pas parfait et des erreurs peuvent survenir. _Thales_ est par exemple reconnu comme une localisation géographique. _Naval Group_ à la troisième ligne n'est pas reconnu comme une organisation.\n",
    "\n",
    "Ces résultats pourraient être améliorés en utilisant un modèle plus conséquent. Pour la bibliothèque _Spacy_ que nous utilisons, la liste des modèles pour la langue française est disponible ici https://spacy.io/models/fr#fr_dep_news_trf. "
   ]
  }
 ],
 "metadata": {
  "kernelspec": {
   "display_name": "Python 3.9.7 ('.venv': venv)",
   "language": "python",
   "name": "python3"
  },
  "language_info": {
   "codemirror_mode": {
    "name": "ipython",
    "version": 3
   },
   "file_extension": ".py",
   "mimetype": "text/x-python",
   "name": "python",
   "nbconvert_exporter": "python",
   "pygments_lexer": "ipython3",
   "version": "3.9.7"
  },
  "orig_nbformat": 4,
  "vscode": {
   "interpreter": {
    "hash": "c80391f1238b45698e2dd8cb3d47fccae97762fdc20421908c45a9aed68776a1"
   }
  }
 },
 "nbformat": 4,
 "nbformat_minor": 2
}
