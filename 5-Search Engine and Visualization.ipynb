{
 "cells": [
  {
   "cell_type": "markdown",
   "metadata": {},
   "source": [
    "# Partie 5. - Moteur de Recherche et visualisation\n",
    "\n",
    "Dans cette 5ième et dernière partie, nous allons mettre en oeuvre un moteur de recherche pour indexer et rechercher le jeu de données vu en première partie.  Le moteur de recherche que nous utiliserons est OpenSearch (fork Elasticsearch), un moteur de recherche puissant qui est de plus en plus utilisé dans l’industrie ; non seulement pour ses capacités de recherche mais aussi pour ses fonctionnalités de Business Intelligence (BI)."
   ]
  },
  {
   "cell_type": "markdown",
   "metadata": {},
   "source": [
    "## Import des bibliothèques logicielles et configuration"
   ]
  },
  {
   "cell_type": "code",
   "execution_count": 13,
   "metadata": {},
   "outputs": [],
   "source": [
    "from elasticsearch import Elasticsearch\n",
    "from elasticsearch_dsl.query import QueryString, Range, SimpleQueryString\n",
    "from elasticsearch_dsl import MultiSearch, Search, Q\n",
    "from datasets import load_dataset # Intégration de jeux de données.\n",
    "\n",
    "import ast\n",
    "from tqdm.notebook import tqdm\n"
   ]
  },
  {
   "cell_type": "code",
   "execution_count": 7,
   "metadata": {},
   "outputs": [],
   "source": [
    "# Configuration de l'URL vers le moteur de recherche\n",
    "ES_URL = '127.0.0.1:9200'\n",
    "ES_USER=\"\"\n",
    "ES_PWD=\"\"\n",
    "\n",
    "# Configuration d'un objet qui nous permettra d'indexer des données dans le moteur de recherche.\n",
    "es = Elasticsearch(ES_URL, http_auth=(ES_USER, ES_PWD))"
   ]
  },
  {
   "cell_type": "markdown",
   "metadata": {},
   "source": [
    "## 1. Lancement du moteur de recherche avec Docker"
   ]
  },
  {
   "cell_type": "markdown",
   "metadata": {},
   "source": [
    "Le moteur de recherche devrait déjà être lancé par Docker. Vous pouvez le vérifier en vous rendant sur http://localhost:5601"
   ]
  },
  {
   "cell_type": "markdown",
   "metadata": {},
   "source": [
    "## 2. Indexation des données"
   ]
  },
  {
   "cell_type": "markdown",
   "metadata": {},
   "source": [
    "Rechargeons le jeu de données construit dans la Partie 1."
   ]
  },
  {
   "cell_type": "code",
   "execution_count": 15,
   "metadata": {},
   "outputs": [
    {
     "name": "stderr",
     "output_type": "stream",
     "text": [
      "Using custom data configuration Abirate--french_book_reviews-c9c8b5f3107a71dd\n",
      "Reusing dataset json (/home/vincent/.cache/huggingface/datasets/Abirate___json/Abirate--french_book_reviews-c9c8b5f3107a71dd/0.0.0/da492aad5680612e4028e7f6ddc04b1dfcec4b64db470ed7cc5f2bb265b9b6b5)\n"
     ]
    },
    {
     "data": {
      "application/vnd.jupyter.widget-view+json": {
       "model_id": "845eaa71f0304998ad4833788dd68ee5",
       "version_major": 2,
       "version_minor": 0
      },
      "text/plain": [
       "  0%|          | 0/1 [00:00<?, ?it/s]"
      ]
     },
     "metadata": {},
     "output_type": "display_data"
    }
   ],
   "source": [
    "french_book_review_dataset = load_dataset(\"Abirate/french_book_reviews\")"
   ]
  },
  {
   "cell_type": "markdown",
   "metadata": {},
   "source": [
    "Ensuite, nous créons une boucle qui pour chaque document l'indexe dans le moteur de recherche avec les paramètres suivants : \n",
    "- nom de l'index : `book_review` ;\n",
    "- identifiant du document : chemin du document (les clés du dictionnaire `documents`) ;\n",
    "- contenut : JSON du document."
   ]
  },
  {
   "cell_type": "code",
   "execution_count": 39,
   "metadata": {},
   "outputs": [
    {
     "data": {
      "application/vnd.jupyter.widget-view+json": {
       "model_id": "4c6356acad8b4a648cf08aa9d6bfe1c0",
       "version_major": 2,
       "version_minor": 0
      },
      "text/plain": [
       "  0%|          | 0/9658 [00:00<?, ?it/s]"
      ]
     },
     "metadata": {},
     "output_type": "display_data"
    }
   ],
   "source": [
    "#for doc in documents:\n",
    "#    es.index(index=\"book_review\",id=doc, body=documents[doc])\n",
    "\n",
    "for book_title, review, label, rating in tqdm(zip(french_book_review_dataset.data[\"train\"][\"book_title\"], \\\n",
    "        french_book_review_dataset.data[\"train\"][\"reader_review\"], \\\n",
    "        french_book_review_dataset.data[\"train\"][\"label\"], \\\n",
    "        french_book_review_dataset.data[\"train\"][\"rating\"]), \\\n",
    "        total=len(french_book_review_dataset.data[\"train\"])):\n",
    "    \n",
    "    label_str = \"Positif\"\n",
    "    if(\"0\" == str(label)):\n",
    "        label_str = \"Négatif\"\n",
    "\n",
    "    json_document = {\n",
    "        \"book_title\": str(book_title),\n",
    "        \"review\": str(review),\n",
    "        \"label\" : str(label_str),\n",
    "        \"rating\" : int(rating.as_py())\n",
    "    }\n",
    "\n",
    "    es.index(index=\"book_review\",id=str(book_title), body=json_document)\n"
   ]
  },
  {
   "cell_type": "markdown",
   "metadata": {},
   "source": [
    "Nous avons utilisé les paramètres par défaut pour le pré-traitement du texte, la tokinisation etc. Il est possible de modifier la manière dont les documents sont indexés via les `mappings` : https://opensearch.org/docs/2.0/opensearch/mappings/."
   ]
  },
  {
   "cell_type": "markdown",
   "metadata": {},
   "source": [
    "## 3. Exploitation du moteur de recherche"
   ]
  },
  {
   "cell_type": "markdown",
   "metadata": {},
   "source": [
    "Nous allons maintenant lancer l'interface graphique **OpenDashboards** du moteur de recherche.\n",
    "\n",
    "1. Lancer l'URL http://localhost:5601/app/management/opensearch-dashboards/objects\n",
    "2. Cliquer sur \"Import\" et sélectionner le fichier `opensearch-dashboard.ndjson`\n",
    "3. Lancer l'interface : http://localhost:5601/app/dashboards\n",
    "4. Exécuter des requêtes et visualiser les résultats !"
   ]
  },
  {
   "cell_type": "markdown",
   "metadata": {},
   "source": []
  }
 ],
 "metadata": {
  "interpreter": {
   "hash": "051e87607299e8fe007fcacfd48fd3303246d4e5a4af1840d943aebbb601e356"
  },
  "kernelspec": {
   "display_name": "Python 3.7.9 ('venv': venv)",
   "language": "python",
   "name": "python3"
  },
  "language_info": {
   "codemirror_mode": {
    "name": "ipython",
    "version": 3
   },
   "file_extension": ".py",
   "mimetype": "text/x-python",
   "name": "python",
   "nbconvert_exporter": "python",
   "pygments_lexer": "ipython3",
   "version": "3.7.9"
  },
  "orig_nbformat": 4
 },
 "nbformat": 4,
 "nbformat_minor": 2
}
